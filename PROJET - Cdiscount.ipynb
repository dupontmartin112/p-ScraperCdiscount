{
 "cells": [
  {
   "cell_type": "code",
   "execution_count": 2,
   "id": "86cc46e3-596c-4eae-894d-f5008cb7c43a",
   "metadata": {
    "collapsed": true,
    "jupyter": {
     "outputs_hidden": true
    },
    "tags": []
   },
   "outputs": [
    {
     "name": "stdout",
     "output_type": "stream",
     "text": [
      "Entrez le produit recheché:\n"
     ]
    },
    {
     "name": "stdin",
     "output_type": "stream",
     "text": [
      " iPhone 12 Pro \n"
     ]
    },
    {
     "name": "stdout",
     "output_type": "stream",
     "text": [
      "\n"
     ]
    },
    {
     "name": "stderr",
     "output_type": "stream",
     "text": [
      "[WDM] - ====== WebDriver manager ======\n",
      "[WDM] - Current google-chrome version is 102.0.5005\n",
      "[WDM] - Get LATEST chromedriver version for 102.0.5005 google-chrome\n",
      "[WDM] - Driver [/Users/tam/.wdm/drivers/chromedriver/mac64/102.0.5005.61/chromedriver] found in cache\n",
      "/var/folders/m2/fdycypmn5fs5tzy134bmr9dm0000gn/T/ipykernel_19435/19231794.py:31: DeprecationWarning: executable_path has been deprecated, please pass in a Service object\n",
      "  driver = webdriver.Chrome(ChromeDriverManager().install())\n",
      "/var/folders/m2/fdycypmn5fs5tzy134bmr9dm0000gn/T/ipykernel_19435/19231794.py:55: DeprecationWarning: find_elements_by_class_name is deprecated. Please use find_elements(by=By.CLASS_NAME, value=name) instead\n",
      "  for i in driver.find_elements_by_class_name('prdtBILTit'): Noms_Produits.append(i.text)\n"
     ]
    },
    {
     "name": "stdout",
     "output_type": "stream",
     "text": [
      "188\n",
      "188\n",
      "['APPLE iPhone 12 Pro Max 256Go Bleu Pacifique', 'APPLE iPhone 12 Pro 128Go Bleu Pacifique - Reconditionné - Etat correct', 'APPLE iPhone 12 64Go Bleu', 'APPLE iPhone 12 Pro 256Go Bleu Pacifique - Reconditionné - Etat correct', 'APPLE iPhone 12 Pro 128Go Graphite - Reconditionné - Très bon état', 'APPLE iPhone 12 Pro 128Go Bleu Pacifique - Reconditionné - Excellent état', 'APPLE iPhone 11 Pro 64 Go Vert Nuit - Reconditionné - Très bon état', 'APPLE iPhone 12 Pro Max 128Go Bleu Pacifique - Reconditionné - Excellent état', 'APPLE iPhone 13 Pro 128GB Sierra Blue- sans kit piéton', 'APPLE iPhone 12 Pro 512Go Bleu Pacifique', 'APPLE iPhone 12 Pro 128Go Argent - Reconditionné - Etat correct', 'APPLE iPhone 11 Pro Max 64 Go Vert Nuit - Reconditionné - Très bon état', 'APPLE iPhone 11 Pro Max 64 Go Gris Sideral - Reconditionné - Très bon état', 'APPLE iPhone 11 Pro Max 256 Go Vert Nuit - Reconditionné - Excellent état', 'APPLE iPhone 12 Pro 256Go Bleu Pacifique - Reconditionné - Très bon état', 'APPLE iPhone 13 Pro 128GB Graphite- sans kit piéton', 'APPLE iPhone 12 64Go Bleu - Reconditionné - Très bon état', 'APPLE iPhone 13 128 Go Midnight (2021) - Reconditionné - Excellent état', 'APPLE iPhone 12 Pro 256Go Graphite - Reconditionné - Excellent état', 'APPLE iPhone 13 256 Go Vert', 'APPLE iPhone 12 Pro Max 128Go Bleu Pacifique - Reconditionné - Très bon état', 'APPLE iPhone 12 Pro 128Go Graphite - Reconditionné - Excellent état', 'APPLE iPhone 12 Pro 128Go Argent - Reconditionné - Excellent état', 'APPLE iPhone 12 Pro Max 256Go Bleu Pacifique - Reconditionné - Etat correct', 'APPLE iPhone 12 Pro 512Go Or', 'APPLE iPhone 12 Pro 256Go Graphite - Reconditionné - Très bon état', 'APPLE iPhone 12 Pro Max 256Go Or - Reconditionné - Etat correct', 'APPLE iPhone 12 Pro Max 128Go Bleu Pacifique - Reconditionné - Etat correct', 'APPLE iPhone 12 Pro 256Go Bleu Pacifique - Reconditionné - Excellent état', 'APPLE iPhone 12 Pro 256Go Or - Reconditionné - Etat correct', 'APPLE iPhone 12 Pro Max 256Go Graphite - Reconditionné - Très bon état', 'APPLE iPhone 12 Pro 128Go Or - Reconditionné - Très bon état', 'APPLE iPhone 11 Pro Max 64 Go Argent - Reconditionné - Excellent état', 'APPLE iPhone 12 | 12 Pro Coque en Silicone avec MagSafe - Blanc', 'APPLE iPhone 12 | 12 Pro Coque en Silicone avec MagSafe - Noir', 'APPLE iPhone 12 Pro Max 256Go Argent - Reconditionné - Très bon état', 'iPhone 12 Pro Max Coque en silicone avec MagSafe - Amethyst', 'iPhone 12 Pro Max Coque en cuir avec MagSafe - Deep Violet', 'APPLE iPhone 12 | 12 Pro Coque en Silicone avec MagSafe - (PRODUCT)RED', 'Apple AirPods Pro 2021 Blanc avec boîtier de charge MagSafe Ecouteurs sans fil True Wireless à réduction du bruit', 'APPLE iPhone 12 Pro Max 512Go Argent', 'Apple Adaptateur Lightning vers USB pour appareil photo', 'APPLE Housse iPhone 12/12 Pro - Cuir rouge', 'APPLE iPhone 12 Pro Max 512Go Bleu Pacifique', 'APPLE iPhone 12 | 12 Pro Coque en Silicone avec MagSafe - Bleu Marine', 'Apple AirPods 3e génération + boitier de charge- Blanc', 'APPLE iPhone 12 Pro Max Coque en Silicone avec MagSafe - Noir', 'APPLE iPhone 12 Pro 512Go Graphite', 'APPLE iPhone 12 Pro Max 512Go Or', 'APPLE iPhone 12 Pro 512Go Bleu Pacifique - Reconditionné - Excellent état', 'APPLE iPhone 12 | 12 Pro Coque en cuir avec MagSafe - Bleu Baltique', 'APPLE iPhone 12 Pro Max 512Go Graphite', 'APPLE AirPods 2e génération avec boitier de charge filaire Blanc', 'APPLE iPhone 12 Pro Max 256Go Argent - Reconditionné - Etat correct', 'APPLE Airpods 2 wireless - Blanc - Embout auriculaire', 'iPhone Apple modele 12 pro - 256 GB - Graphite', 'APPLE iPhone 12 Pro Max 512Go Graphite - Reconditionné - Etat correct', 'APPLE iPhone 12 Pro Max 512Go Bleu Pacifique - Reconditionné - Etat correct', 'APPLE iPhone 12 Pro 256Go Graphite - Reconditionné - Etat correct', 'APPLE iPhone 12 Pro Max 256Go Graphite - Reconditionné - Etat correct', 'APPLE Pack de 1 AirTag', 'APPLE iPhone 12 Pro 128Go Bleu Pacifique - Reconditionné - Très bon état', 'Apple iPhone 12 Pro Max 512GB Bleu Pacifique', 'APPLE iPhone 12 Pro 128Go Graphite - Reconditionné - Etat correct', 'APPLE iPhone 12 Pro Max 128Go Argent - Reconditionné - Excellent état', 'Housse en cuir Apple avec MagSafe pour iPhone 12 Pro Max Bleu baltique Bleu Baltique', 'APPLE iPhone 12 mini 64Go (PRODUCT)RED', 'APPLE iPhone 12 Pro 128Go Or - Reconditionné - Excellent état', 'APPLE iPhone 12 Pro Max 128Go Or - Reconditionné - Excellent état', 'APPLE iPhone 12 Pro Max 128Go Graphite - Reconditionné - Excellent état', 'APPLE Chargeur MagSafe', 'APPLE Housse iPhone 12 Pro Max - Cuir rouge', 'APPLE iPhone 12 Pro 512Go Bleu Pacifique - Reconditionné - Etat correct', 'APPLE iPhone 12 Pro 512Go Or - Reconditionné - Excellent état', 'APPLE iPhone 12 Pro Max 256Go Bleu Pacifique - Reconditionné - Excellent état', 'APPLE iPhone 12 Pro 256Go Argent - Reconditionné - Comme neuf', 'Apple iPhone 12 Pro Max 512GB Grafito (Graphite)', 'Smartphone Téléphone APPLE iPhone 12 Pro 512Go Bleu Pacifique 5,300000', 'Smartphone Téléphone APPLE iPhone 12 Pro 512Go Graphite 5,800000', 'Smartphone Téléphone APPLE iPhone 12 Pro 512Go Or 5,500000', 'Smartphone Téléphone APPLE iPhone 12 Pro Max 512Go Bleu Pacifique 5,400000', 'Smartphone Téléphone APPLE iPhone 12 Pro Max 256Go Bleu Pacifique 5,000000', 'APPLE iPhone 12 Pro Max 256Go Or - Reconditionné - Excellent état', 'Smartphone Téléphone APPLE iPhone 12 Pro Max 512Go Graphite 5,400000', 'APPLE iPhone 12 Pro Max 256Go Graphite - Reconditionné - Excellent état', 'Smartphone Téléphone APPLE iPhone 12 Pro Max 512Go Or 5,200000', 'Smartphone Téléphone APPLE iPhone 12 Pro Max 512Go Argent 5,400000', 'Apple iPhone 12 Pro Max 256Go Bleu pacifique', 'APPLE iPhone 12 Pro 256Go Or - Reconditionné - Excellent état', 'iPhone iPhone 12 Pro Max 512GB Silver', 'APPLE iPhone 12 Pro Max 256Go Bleu Pacifique - Reconditionné - Très bon état', 'APPLE iPhone 12 Pro 512Go Graphite - Reconditionné - Excellent état', 'APPLE iPhone 12 Pro Max 512Go Or - Reconditionné - Excellent état', 'iPhone 12 Pro Max Leather Sleeve avec MagSafe - Deep Violet', 'iPhone 12 Pro Max Coque en silicone avec MagSafe - Capri Blue', 'APPLE iPhone 12 Pro Max 256Go Argent - Reconditionné - Excellent état', 'APPLE iPhone 12 | 12 Pro Coque en cuir avec MagSafe - Noir', 'iPhone 12 Pro Max Coque en silicone avec MagSafe - Pistachio', 'APPLE Housse iPhone 12 Pro Max - Cuir rose', 'APPLE Housse iPhone 12 Pro Max - Cuir marron', 'APPLE iPhone 12 | 12 Pro Coque Transparente avec MagSafe', 'APPLE Housse iPhone 12/12 Pro - Cuir bleu', 'APPLE Housse iPhone 12/12 Pro - Cuir rose', 'APPLE Housse iPhone 12/12 Pro - Cuir marron', 'iPhone 12 | 12 Pro Leather Sleeve avec MagSafe - Deep Violet', 'Apple Câble Lightning vers USB (2 m)', 'APPLE iPhone 13 Pro Max 256GB Gold- sans kit piéton', 'APPLE iPhone 13 Pro Max 256GB Sierra Blue- sans kit piéton', 'APPLE Pack de 4 AirTag', 'APPLE iPhone 13 Pro Max 128GB Sierra Blue- sans kit piéton', 'APPLE iPhone 13 Pro 128 Go Vert Alpin', 'Smartphone Téléphone APPLE iPhone 12 mini 64Go (PRODUCT)RED 5,200000', 'Apple Magic Keyboard avec pavé numérique - Argent - AZERTY', 'APPLE iPhone 13 Pro 256GB Graphite- sans kit piéton', 'APPLE iPhone 13 Pro 256GB Sierra Blue- sans kit piéton', 'APPLE iPhone 13 Pro Max 128GB Graphite - sans kit piéton', 'APPLE iPhone 13 Pro Max 1TB Sierra Blue- sans kit piéton', 'APPLE iPhone 13 Pro 512 Go Vert Alpin', 'APPLE iPhone 13 Pro 256GB Gold- sans kit piéton', 'Apple AirPods 3e génération + boitier de charge- Blanc', 'APPLE iPhone 13 Pro Max 1TB Graphite- sans kit piéton', 'APPLE iPhone 13 Pro 256GB Silver- sans kit piéton', 'APPLE iPhone 13 Pro 512GB Graphite- sans kit piéton', 'APPLE iPhone 13 Pro 512GB Gold- sans kit piéton', 'APPLE iPhone 13 Pro 512GB Silver- sans kit piéton', 'APPLE Adaptateur 20W USB-C Power', 'APPLE iPhone 13 Pro Max 1TB Silver', 'APPLE iPhone 13 Pro Max 512GB Silver- sans kit piéton', 'Apple EarPods Écouteurs avec micro embout auriculaire filaire jack 3,5mm pour 12.9-inch iPad Pro; 9.7-inch iPad Pro; iPad (3rd…', 'APPLE iPhone 13 Pro 1TB Graphite- sans kit piéton', 'APPLE iPhone 13 Pro 1TB Silver', 'APPLE Airpods Pro', 'APPLE iPhone 13 Pro 1TB Gold', 'Apple AirPods Pro 2021 Blanc avec boîtier de charge MagSafe Ecouteurs sans fil True Wireless à réduction du bruit', 'APPLE écouteurs sans fil Airpods 1', 'APPLE iPhone 13 Pro Max 128 Go Vert Alpin', 'Adaptateur Lightning vers mini-jack 3,5 mm', 'Kit pieton original apple earpod mmtn2zm/a pour iphone 7/7+/8/8+/SE/X/XS/ XS MAX', 'APPLE iPhone 13 Pro Max 1 To Vert Alpin', 'APPLE iPhone 13 Pro Max 256 Go Vert Alpin', 'Chargeur USB + Prise secteur - Iphone 3/3GS/4/4S - Original Apple', 'Apple EarPods Écouteurs avec micro jack 3,5mm', 'APPLE Écouteurs sans fil AirPods 1 - Reconditionné - Excellent état', 'APPLE iPhone 13 Pro Max 128GB Silver- sans kit piéton', 'APPLE iPhone 13 Pro 128GB Gold- sans kit piéton', 'APPLE iPhone 13 Pro Max 256GB Silver- sans kit piéton', 'APPLE iPhone 13 Pro Max 128GB Gold- sans kit piéton', 'Apple Câble Lightning vers USB (0,5 m)', 'Câble USB-C vers Lightning (1 m)', 'APPLE iPhone 13 Pro 256 Go Vert Alpin', 'APPLE iPhone 13 Pro Max 256GB Graphite- sans kit piéton', 'AirPods Max gris sidéral', 'Ecouteur original Earpods kit mains libres piéton MD827 avec Boite Pour Apple iPhone iPad Couleur Blanc', 'APPLE iPhone 13 Pro Max 512Go Silver', 'APPLE EarPods avec mini-jack 3,5 mm', 'APPLE iPhone 13 Pro 256Go Graphite', 'APPLE iPhone 13 Pro 128GB Silver- sans kit piéton', 'Apple Lightning Digital AV Adapter - Adaptateur p…', 'BEATS Solo3 Wireless Casque audio Bluetooth - Rouge', 'Apple Adaptateur Lightning AV numérique', 'APPLE iPhone 13 Pro Max 128Go Graphite', 'APPLE iPhone 13 Pro Max 128Go Sierra Blue', 'BEATS STUDIO3 Casque Bluetooth - Blue', 'APPLE iPhone 13 Pro 256Go Gold', 'APPLE iPhone 13 Pro 512Go Gold', 'APPLE iPhone 13 Pro 256Go Sierra Blue', 'APPLE iPhone 13 Pro Max 256Go Sierra Blue', 'APPLE iPhone 13 Pro 256Go Silver', 'APPLE iPhone 13 Pro 1TB Graphite', 'Adaptateur Lightning vers VGA', 'APPLE Clavier Magic Keyboard avec pavé numérique - Anglais international', 'APPLE iPhone 13 Pro 128Go Sierra Blue', 'Apple Adaptateur Lightning à connecteur 30 (0,2 m)', 'APPLE iPhone 13 Pro 512Go Sierra Blue', 'APPLE iPhone 13 Pro Max 128Go Gold', 'écouteur iPhone EarPods avec mini-jack 3,5 mm MD827ZM/A', 'APPLE iPhone 13 Pro Max 1TB Sierra Blue', 'APPLE iPhone 13 Pro 128Go Graphite', 'Apple Adaptateur Lightning vers Micro USB', 'APPLE iPhone 13 Pro Max 256Go Graphite', 'APPLE iPhone 13 Pro Max 512Go Sierra Blue', 'APPLE iPhone 13 Pro Max 256Go Silver', 'KIT PIETON IPHONE 7/8.. D ORIGINE', 'Auriculares AirPods 2 con carga inalámbrica MRXJ2TY/A blanco', 'APPLE Adaptateur Lightning vers USB-C - 1m', 'AirPods Max rose', 'Ecouteurs APPLE EarPods avec connecteur Lightning', 'Adaptateur prise Jack 3.5mm vers Lightning MMX62ZM/A - Apple']\n",
      "['1099€00', '814€00', '759€00', '922€00', '830€00', '1160€00', '514€90', '1069€99', '1159€00', '1199€00', '734€00', '600€00', '575€00', '684€99', '909€00', '1159€00', '541€80', '881€90', '992€00', '979€00', '925€90', '999€00', '921€00', '952€00', '1229€00', '962€00', '1029€97', '823€00', '992€00', '894€00', '1019€00', '853€00', '593€00', '47€99', '54€99', '1001€00', '79€41', '87€99', '51€00', '199€25', '1349€00', '34€94', '180€99', '1349€00', '45€00', '179€99', '41€99', '1229€00', '1349€00', '1089€00', '59€00', '1349€00', '128€00', '952€00', '164€90', '1139€00', '1290€00', '1290€00', '922€00', '952€00', '29€99', '816€90', '1570€08', '734€00', '1241€00', '161€85', '599€00', '1160€00', '1241€00', '969€90', '45€99', '160€27', '852€00', '1505€00', '1300€00', '1001€00', '1570€08', '1813€43', '1649€73', '1818€61', '1914€44', '1580€82', '1300€00', '1913€81', '992€00', '1914€10', '1914€45', '1546€62', '1275€00', '1570€08', '920€00', '1250€00', '1021€00', '199€27', '76€99', '1300€00', '47€00', '79€41', '160€27', '160€27', '55€00', '160€27', '160€27', '180€99', '194€00', '26€99', '1379€00', '1379€00', '99€00', '1259€00', '1159€00', '909€72', '128€00', '1279€00', '1279€00', '1259€00', '1839€00', '1509€00', '1279€00', '189€00', '1839€00', '1279€00', '1509€00', '1509€00', '1509€00', '26€99', '1839€00', '1609€00', '19€95', '1739€00', '1739€00', '249€99', '1739€00', '229€99', '49€00', '1259€00', '10€99', '27€99', '2104€00', '1379€00', '35€99', '7€00', '69€85', '1259€00', '1159€00', '1379€00', '1571€29', '26€99', '24€90', '1279€00', '1379€00', '535€90', '15€50', '1790€00', '17€99', '1413€00', '1159€00', '70€67', '353€99', '59€99', '1398€00', '1415€00', '341€99', '1406€00', '1613€00', '1408€00', '1574€00', '1412€00', '1989€00', '67€54', '127€99', '1295€00', '54€90', '1615€00', '1402€00', '7€99', '1839€00', '1291€00', '29€90', '1574€00', '1778€00', '1574€00', '24€90', '304€99', '15€90', '469€00', '24€90', '20€40']\n",
      "https://www.cdiscount.com/search/10/iPhone+12+Pro+.html?TechnicalForm.SiteMapNodeId=0&&SortForm.SelectedSort=PERTINENCE&page={}\n"
     ]
    },
    {
     "data": {
      "text/html": [
       "<div>\n",
       "<style scoped>\n",
       "    .dataframe tbody tr th:only-of-type {\n",
       "        vertical-align: middle;\n",
       "    }\n",
       "\n",
       "    .dataframe tbody tr th {\n",
       "        vertical-align: top;\n",
       "    }\n",
       "\n",
       "    .dataframe thead th {\n",
       "        text-align: right;\n",
       "    }\n",
       "</style>\n",
       "<table border=\"1\" class=\"dataframe\">\n",
       "  <thead>\n",
       "    <tr style=\"text-align: right;\">\n",
       "      <th></th>\n",
       "      <th>produit</th>\n",
       "      <th>prix (€)</th>\n",
       "      <th>vendeur</th>\n",
       "    </tr>\n",
       "  </thead>\n",
       "  <tbody>\n",
       "  </tbody>\n",
       "</table>\n",
       "</div>"
      ],
      "text/plain": [
       "Empty DataFrame\n",
       "Columns: [produit, prix (€), vendeur]\n",
       "Index: []"
      ]
     },
     "execution_count": 2,
     "metadata": {},
     "output_type": "execute_result"
    }
   ],
   "source": [
    "from selenium.webdriver.support import expected_conditions as EC \n",
    "from webdriver_manager.chrome import ChromeDriverManager\n",
    "from selenium.webdriver.support.ui import WebDriverWait\n",
    "from selenium.webdriver.common.keys import Keys\n",
    "from selenium.webdriver.common.by import By\n",
    "from selenium import webdriver\n",
    "from random import randint\n",
    "import pandas as pd\n",
    "import time             \n",
    "\n",
    "\n",
    "\n",
    " \n",
    "# listes contenant le Noms des produits et leurs Prix\n",
    "Prix = []\n",
    "Noms_Produits = []\n",
    "Vendeurs = []\n",
    "\n",
    "\n",
    "\n",
    "# le client entre la 2e page du produit recherché, pour qu'on puisse en déduire la 'base url'\n",
    "print(\"Entrez le produit recheché:\")\n",
    "produit = input().split(' ')        \n",
    "\n",
    "# Base de l'Url, on le construit à partir du produit (puis par la suite on ajoute le numéro de chaque page)\n",
    "# si on entre 'table basse ronde'                                  --->   cela nous donne 'https://www.amazon.fr/s?k=table+basse+ronde&page='  \n",
    "base_url = ''.join(['https://www.cdiscount.com/search/10/', produit[0], ''.join(['+' + produit[i] for i in range(1,len(produit)) if len(produit) > 1]),\n",
    "                    '.html?TechnicalForm.SiteMapNodeId=0&&SortForm.SelectedSort=PERTINENCE&page={}'])                  #{}\n",
    "\n",
    "# ouvrir le navigateur Chrome, et aller sur la 1ere page qu'on a quand on recherche un produit\n",
    "driver = webdriver.Chrome(ChromeDriverManager().install())\n",
    "driver.get(base_url)\n",
    "\n",
    "try:\n",
    "    for i in range(3):\n",
    "        driver.refresh()\n",
    "        time.sleep(15)\n",
    "except: driver.quit()\n",
    "\n",
    "# trouver le nombre de page total à scraper, se trouve dans un 'ul'\n",
    "nombre = driver.find_element(By.XPATH, '//*[@id=\"PaginationForm_ul\"]/li[last()]/a').text  # ! 'last()' dans l'url pour prendre le dernier 'li'\n",
    "\n",
    "\n",
    "for i in range(1, int(nombre)):  \n",
    "    \n",
    "    #on va sur le lien de la page 1, puis 2,3... Seulement pour la 1 on a pas besoin d'indiquer page=1, pour les autre si\n",
    "    if i == 1: driver.get(base_url)\n",
    "    else: driver.get(base_url.format(i))\n",
    "    \n",
    "    try:\n",
    "        time.sleep(15)\n",
    "    except:pass\n",
    "    \n",
    "    # récupérer tous les noms des produits \n",
    "    for i in driver.find_elements_by_class_name('prdtBILTit'): Noms_Produits.append(i.text)\n",
    "    \n",
    "    # récupérer tous les prix des produits \n",
    "    for i in driver.find_elements(By.CSS_SELECTOR, \"span.hideFromPro.priceColor.price\"): Prix.append(i.text) \n",
    "\n",
    "    \n",
    "    time.sleep(randint(5,12))\n",
    "    \n",
    "print(len(Noms_Produits))\n",
    "print(len(Prix))\n",
    "\n",
    "#print(Noms_Produits)    \n",
    "#print(Prix)\n",
    "\n",
    "print(base_url)\n",
    "\n",
    "\n",
    "# tableau des données        \n",
    "tableau = pd.DataFrame(list(zip(Noms_Produits,Prix)), columns = ['produit','prix (€)'])\n",
    "\n",
    "# transférer les données dans un fichier CSV\n",
    "tableau.to_csv(''.join(produit)+'-Cdiscount_fichePrix.csv')\n",
    "tableau      "
   ]
  },
  {
   "cell_type": "code",
   "execution_count": 4,
   "id": "47026dd8-0bc6-4fa2-a190-1356b06331c4",
   "metadata": {},
   "outputs": [
    {
     "data": {
      "text/html": [
       "<div>\n",
       "<style scoped>\n",
       "    .dataframe tbody tr th:only-of-type {\n",
       "        vertical-align: middle;\n",
       "    }\n",
       "\n",
       "    .dataframe tbody tr th {\n",
       "        vertical-align: top;\n",
       "    }\n",
       "\n",
       "    .dataframe thead th {\n",
       "        text-align: right;\n",
       "    }\n",
       "</style>\n",
       "<table border=\"1\" class=\"dataframe\">\n",
       "  <thead>\n",
       "    <tr style=\"text-align: right;\">\n",
       "      <th></th>\n",
       "      <th>produit</th>\n",
       "      <th>prix (€)</th>\n",
       "    </tr>\n",
       "  </thead>\n",
       "  <tbody>\n",
       "    <tr>\n",
       "      <th>0</th>\n",
       "      <td>APPLE iPhone 12 Pro Max 256Go Bleu Pacifique</td>\n",
       "      <td>1099€00</td>\n",
       "    </tr>\n",
       "    <tr>\n",
       "      <th>1</th>\n",
       "      <td>APPLE iPhone 12 Pro 128Go Bleu Pacifique - Rec...</td>\n",
       "      <td>814€00</td>\n",
       "    </tr>\n",
       "    <tr>\n",
       "      <th>2</th>\n",
       "      <td>APPLE iPhone 12 64Go Bleu</td>\n",
       "      <td>759€00</td>\n",
       "    </tr>\n",
       "    <tr>\n",
       "      <th>3</th>\n",
       "      <td>APPLE iPhone 12 Pro 256Go Bleu Pacifique - Rec...</td>\n",
       "      <td>922€00</td>\n",
       "    </tr>\n",
       "    <tr>\n",
       "      <th>4</th>\n",
       "      <td>APPLE iPhone 12 Pro 128Go Graphite - Reconditi...</td>\n",
       "      <td>830€00</td>\n",
       "    </tr>\n",
       "    <tr>\n",
       "      <th>...</th>\n",
       "      <td>...</td>\n",
       "      <td>...</td>\n",
       "    </tr>\n",
       "    <tr>\n",
       "      <th>183</th>\n",
       "      <td>Auriculares AirPods 2 con carga inalámbrica MR...</td>\n",
       "      <td>304€99</td>\n",
       "    </tr>\n",
       "    <tr>\n",
       "      <th>184</th>\n",
       "      <td>APPLE Adaptateur Lightning vers USB-C - 1m</td>\n",
       "      <td>15€90</td>\n",
       "    </tr>\n",
       "    <tr>\n",
       "      <th>185</th>\n",
       "      <td>AirPods Max rose</td>\n",
       "      <td>469€00</td>\n",
       "    </tr>\n",
       "    <tr>\n",
       "      <th>186</th>\n",
       "      <td>Ecouteurs APPLE EarPods avec connecteur Lightning</td>\n",
       "      <td>24€90</td>\n",
       "    </tr>\n",
       "    <tr>\n",
       "      <th>187</th>\n",
       "      <td>Adaptateur prise Jack 3.5mm vers Lightning MMX...</td>\n",
       "      <td>20€40</td>\n",
       "    </tr>\n",
       "  </tbody>\n",
       "</table>\n",
       "<p>188 rows × 2 columns</p>\n",
       "</div>"
      ],
      "text/plain": [
       "                                               produit prix (€)\n",
       "0         APPLE iPhone 12 Pro Max 256Go Bleu Pacifique  1099€00\n",
       "1    APPLE iPhone 12 Pro 128Go Bleu Pacifique - Rec...   814€00\n",
       "2                            APPLE iPhone 12 64Go Bleu   759€00\n",
       "3    APPLE iPhone 12 Pro 256Go Bleu Pacifique - Rec...   922€00\n",
       "4    APPLE iPhone 12 Pro 128Go Graphite - Reconditi...   830€00\n",
       "..                                                 ...      ...\n",
       "183  Auriculares AirPods 2 con carga inalámbrica MR...   304€99\n",
       "184         APPLE Adaptateur Lightning vers USB-C - 1m    15€90\n",
       "185                                   AirPods Max rose   469€00\n",
       "186  Ecouteurs APPLE EarPods avec connecteur Lightning    24€90\n",
       "187  Adaptateur prise Jack 3.5mm vers Lightning MMX...    20€40\n",
       "\n",
       "[188 rows x 2 columns]"
      ]
     },
     "execution_count": 4,
     "metadata": {},
     "output_type": "execute_result"
    }
   ],
   "source": []
  },
  {
   "cell_type": "code",
   "execution_count": null,
   "id": "2bd457f6-5669-4ff9-a748-c6f912d190e3",
   "metadata": {},
   "outputs": [],
   "source": []
  }
 ],
 "metadata": {
  "kernelspec": {
   "display_name": "Python 3 (ipykernel)",
   "language": "python",
   "name": "python3"
  },
  "language_info": {
   "codemirror_mode": {
    "name": "ipython",
    "version": 3
   },
   "file_extension": ".py",
   "mimetype": "text/x-python",
   "name": "python",
   "nbconvert_exporter": "python",
   "pygments_lexer": "ipython3",
   "version": "3.9.12"
  }
 },
 "nbformat": 4,
 "nbformat_minor": 5
}
